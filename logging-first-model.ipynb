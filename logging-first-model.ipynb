{
 "cells": [
  {
   "cell_type": "markdown",
   "id": "1b85c868-cc53-4138-98a3-4b8d582aa297",
   "metadata": {
    "tags": []
   },
   "source": [
    "# 1. Instalar MLflow"
   ]
  },
  {
   "cell_type": "code",
   "execution_count": null,
   "id": "15513117-e20e-4728-bcbf-3fd39808ac42",
   "metadata": {},
   "outputs": [],
   "source": [
    "# !pip install mlflow"
   ]
  },
  {
   "cell_type": "markdown",
   "id": "24f689a3-8fc9-4c5b-901d-3dde0858062a",
   "metadata": {},
   "source": [
    "# 2. Lanzar el servidor de MLflow"
   ]
  },
  {
   "cell_type": "markdown",
   "id": "3361eb62-856e-441a-b82e-e10d6271cbfb",
   "metadata": {},
   "source": [
    "Para comenzar, deberá iniciar el servidor de seguimiento de MLflow en una terminal. Una vez que el servidor comience a ejecutarse, debería ver el siguiente resultado:"
   ]
  },
  {
   "cell_type": "code",
   "execution_count": null,
   "id": "f2944dc5-c4cf-40cd-a6c5-e9c14183c8bd",
   "metadata": {
    "tags": []
   },
   "outputs": [
    {
     "name": "stdout",
     "output_type": "stream",
     "text": [
      "[2023-11-03 15:21:37 +0100] [41485] [INFO] Starting gunicorn 21.2.0\n",
      "[2023-11-03 15:21:37 +0100] [41485] [INFO] Listening at: http://127.0.0.1:8080 (41485)\n",
      "[2023-11-03 15:21:37 +0100] [41485] [INFO] Using worker: sync\n",
      "[2023-11-03 15:21:37 +0100] [41486] [INFO] Booting worker with pid: 41486\n",
      "[2023-11-03 15:21:37 +0100] [41487] [INFO] Booting worker with pid: 41487\n",
      "[2023-11-03 15:21:37 +0100] [41488] [INFO] Booting worker with pid: 41488\n",
      "[2023-11-03 15:21:37 +0100] [41490] [INFO] Booting worker with pid: 41490\n"
     ]
    }
   ],
   "source": [
    "# !mlflow server --host 127.0.0.1 --port 8080"
   ]
  },
  {
   "cell_type": "markdown",
   "id": "cd255281-43ee-4966-9be1-c6ca061e8c1e",
   "metadata": {
    "tags": []
   },
   "source": [
    "Recuerde mantener la terminal del sistema ejecutándose durante el tutorial, ya que al cerrarlo se cerrará el servidor."
   ]
  },
  {
   "cell_type": "markdown",
   "id": "b7a778ea-4c69-4611-a6ab-f3005c8ed2a9",
   "metadata": {},
   "source": [
    "# 3. Inicializar el MLflow Client"
   ]
  },
  {
   "cell_type": "markdown",
   "id": "e32d6bb6-02aa-4b4e-bfe1-2f0b2c9b5f39",
   "metadata": {},
   "source": [
    "Para utilizar la API MLflowClient, el paso inicial consiste en importar los módulos necesarios."
   ]
  },
  {
   "cell_type": "code",
   "execution_count": 2,
   "id": "f0201469-d4ed-4838-b5ca-4a09d38f5292",
   "metadata": {
    "tags": []
   },
   "outputs": [],
   "source": [
    "from mlflow import MlflowClient\n",
    "from pprint import pprint\n",
    "from sklearn.ensemble import RandomForestRegressor"
   ]
  },
  {
   "cell_type": "markdown",
   "id": "bd00304d",
   "metadata": {},
   "source": [
    "## 3.1. Inicializando el cliente MLflow\n",
    "\n",
    "En el paso 1 del tutorial, iniciamos un servidor de seguimiento de MLflow con:\n",
    "\n",
    "*host* = **127.0.0.1**\n",
    "\n",
    "*puerto* = **8080**\n",
    "\n",
    "Nos conectamos a esa URI con MlflowClient"
   ]
  },
  {
   "cell_type": "code",
   "execution_count": 3,
   "id": "ac741989",
   "metadata": {
    "tags": []
   },
   "outputs": [],
   "source": [
    "client = MlflowClient(tracking_uri=\"http://127.0.0.1:8080\")"
   ]
  },
  {
   "cell_type": "markdown",
   "id": "96b954b6-a8d2-4cb6-9cde-256d1cd9295d",
   "metadata": {},
   "source": [
    "Imagen de la UI de MLflow:\n",
    "\n",
    "<div style=\"text-align: center;\">\n",
    "    <img src=\"../images/default-ui.png\" width=\"1200\">\n",
    "</div>"
   ]
  },
  {
   "cell_type": "markdown",
   "id": "2898b7be-42c9-4e23-997c-48bee9f6aa4e",
   "metadata": {},
   "source": [
    "Como puede ver, no hay ejecuciones registradas y solo está presente el experimento predeterminado (con un ID de 0)."
   ]
  },
  {
   "cell_type": "markdown",
   "id": "6129354a",
   "metadata": {},
   "source": [
    "### 3.1.1. Buscar experimentos con la API de MLflowClient"
   ]
  },
  {
   "cell_type": "markdown",
   "id": "5832cefa-cdcc-4589-ba25-ad7ddbb734e4",
   "metadata": {},
   "source": [
    "Antes de comenzar a registrar algo en el servidor de seguimiento, echemos un vistazo a una característica clave que existe al inicio del inicio de cualquier servidor de seguimiento Mlflow: el experimento \"Default\".\n",
    "\n",
    "El experimento \"Default\" es un marcador de posición que se utiliza para encapsular toda la información de ejecución si no se declara un experimento explícito. Mientras usa MLflow, creará nuevos experimentos para organizar proyectos, iteraciones de proyectos o agrupar lógicamente grandes actividades de modelado en una colección jerárquica agrupada. Sin embargo, si se olvida de crear un nuevo experimento antes de utilizar las capacidades de seguimiento de MLflow, el experimento \"Default\" es una alternativa para asegurarse de que sus datos de seguimiento no se pierdan al ejecutar una ejecución.\n",
    "\n",
    "Lo primero que haremos es ver los metadatos asociados con los Experimentos que están en el servidor. Podemos lograr esto mediante el uso de la API `mlflow.client.MlflowClient.search_experiments()`.\n",
    "\n",
    "Emitamos una consulta de búsqueda para ver cuáles son los resultados."
   ]
  },
  {
   "cell_type": "code",
   "execution_count": 8,
   "id": "f208d9b8",
   "metadata": {
    "tags": []
   },
   "outputs": [
    {
     "name": "stdout",
     "output_type": "stream",
     "text": [
      "<class 'mlflow.store.entities.paged_list.PagedList'>\n",
      "\n",
      "[<Experiment: artifact_location='mlflow-artifacts:/0', creation_time=1699021013386, experiment_id='0', last_update_time=1699021013386, lifecycle_stage='active', name='Default', tags={}>]\n"
     ]
    }
   ],
   "source": [
    "# Buscar experimentos sin proporcionar una query\n",
    "all_experiments = client.search_experiments()\n",
    "\n",
    "print(type(all_experiments))\n",
    "print()\n",
    "print(all_experiments)"
   ]
  },
  {
   "cell_type": "markdown",
   "id": "cf97f08e-0c99-470d-9a43-77cd32072065",
   "metadata": {},
   "source": [
    "Vale la pena señalar que el tipo de retorno de la API search_experiments() no es una estructura de colección básica. Más bien, es una lista de objetos Experimento. Muchos de los valores de retorno de las API de cliente de MLflow devuelven objetos que contienen atributos de metadatos asociados con la tarea que se está realizando. Este es un aspecto importante a recordar, ya que facilita la realización de secuencias de acciones más complejas, que se tratarán en tutoriales posteriores.\n",
    "\n",
    "Con la colección devuelta, podemos iterar sobre estos objetos para acceder a los atributos de metadatos específicos del experimento predeterminado.\n",
    "\n",
    "Para familiarizarnos con el acceso a elementos de colecciones devueltas desde las API de MLflow, extraigamos el nombre y el lifecycle_stage de la consulta search_experiments() y extraigamos estos atributos en un dict."
   ]
  },
  {
   "cell_type": "code",
   "execution_count": 10,
   "id": "9b1e1914",
   "metadata": {
    "tags": []
   },
   "outputs": [
    {
     "name": "stdout",
     "output_type": "stream",
     "text": [
      "{'lifecycle_stage': 'active', 'name': 'Default'}\n"
     ]
    }
   ],
   "source": [
    "# Obtener el nombre del experimento Default, y la fase del ciclo de vida en el que se encuentra\n",
    "default_experiment = [\n",
    "    {\"name\": experiment.name, \"lifecycle_stage\": experiment.lifecycle_stage}\n",
    "    for experiment in all_experiments\n",
    "    if experiment.name == \"Default\"\n",
    "    ][0]\n",
    "\n",
    "pprint(default_experiment)"
   ]
  },
  {
   "cell_type": "markdown",
   "id": "81c37836",
   "metadata": {},
   "source": [
    "## 3.2. Crear un experimento\n",
    "\n",
    "En esta sección, veremos:\n",
    "\n",
    "* crear un nuevo experimento de MLflow\n",
    "* aplicar metadatos en forma de etiquetas a los experimentos\n",
    "\n",
    "Como pudimos ver antes, al acceder a la UI de MLflow, no hay ejecuciones registradas y solo está presente el experimento predeterminado (con un ID de 0).\n",
    "\n",
    "Si bien MLflow proporciona un experimento predeterminado, sirve principalmente como una red de seguridad general para ejecuciones iniciadas sin un experimento activo específico. Sin embargo, no se recomienda su uso regular. En cambio, crear experimentos únicos para colecciones específicas de ejecuciones ofrece numerosas ventajas, como exploraremos a continuación.\n",
    "\n",
    "Beneficios de definir experimentos únicos:\n",
    "\n",
    "1. Organización mejorada: los experimentos le permiten agrupar ejecuciones relacionadas, lo que facilita su seguimiento y comparación. Esto es especialmente útil cuando se gestionan numerosas ejecuciones, como en proyectos a gran escala.\n",
    "\n",
    "2. Anotación de metadatos: los experimentos pueden contener metadatos que ayuden a organizar y asociar ejecuciones con proyectos más grandes.\n",
    "\n",
    "Considere el siguiente escenario: estamos simulando la participación en un gran proyecto de previsión de la demanda. Este proyecto implica la construcción de modelos de pronóstico para varios departamentos de una cadena de tiendas de comestibles, cada uno de los cuales alberga numerosos productos. Nuestro enfoque aquí es el departamento de “productos agrícolas”, que tiene varios elementos distintos, cada uno de los cuales requiere su propio modelo de pronóstico. Organizar estos modelos se vuelve fundamental para garantizar una fácil navegación y comparación."
   ]
  },
  {
   "cell_type": "code",
   "execution_count": 11,
   "id": "b07c851f",
   "metadata": {
    "tags": []
   },
   "outputs": [],
   "source": [
    "# Provide an Experiment description that will appear in the UI\n",
    "experiment_description = (\n",
    "    \"This is the grocery forecasting project.\"\n",
    "    \"This experiment contains the produce models for apples.\"\n",
    ")\n",
    "\n",
    "# Provide searchable tags that define characteristics of the Runs that will be in this Experiment\n",
    "experiment_tags = {\n",
    "    \"project_name\": \"grocery-forecasting\",\n",
    "    \"store_dept\": \"produce\",\n",
    "    \"team\": \"stores-ml\",\n",
    "    \"project_quarter\": \"Q3-2023\",\n",
    "    \"mlflow.note.content\": experiment_description,\n",
    "}\n",
    "\n",
    "# Create the Experiment, providing a unique name\n",
    "produce_apples_experiment = client.create_experiment(\n",
    "    name=\"Apple_Models\", tags=experiment_tags\n",
    ")"
   ]
  },
  {
   "cell_type": "markdown",
   "id": "cddecf12-dfb0-4aff-8a85-099794f85f4a",
   "metadata": {},
   "source": [
    "Imagen de la UI de MLflow:\n",
    "\n",
    "<div style=\"text-align: center;\">\n",
    "    <img src=\"../images/experiment-page-elements.svg\" width=\"1200\">\n",
    "</div>"
   ]
  },
  {
   "cell_type": "markdown",
   "id": "e3dc1873-40cc-46e8-94e0-20d133cb9f8d",
   "metadata": {
    "tags": []
   },
   "source": [
    "### 3.2.1. Búsqueda basada en etiqueta"
   ]
  },
  {
   "cell_type": "markdown",
   "id": "6321e5ce-b3ae-40e7-b1f2-df4a7a2bc8e3",
   "metadata": {},
   "source": [
    "Ahora que hemos visto el experimento y entendemos cuáles de las etiquetas que especificamos durante la creación del experimento son visibles dentro de la interfaz de usuario y cuáles no, exploraremos el motivo para definir esas etiquetas a medida que aplicamos búsquedas en el servidor de seguimiento para encontrar experimentos cuyos valores de etiquetas personalizadas coincidan con nuestros términos de consulta.\n",
    "\n",
    "Uno de los usos más versátiles de configurar etiquetas dentro de Experimentos es permitir la búsqueda de Experimentos relacionados en función de una etiqueta común. Las capacidades de filtrado dentro de la API search_experiments se pueden ver a continuación, donde buscamos experimentos cuya etiqueta personalizada project_name coincida exactamente con la previsión de comestibles.\n",
    "\n",
    "Tenga en cuenta que el formato que se utiliza para el filtrado de búsqueda tiene algunos matices. Para entidades con nombre (por ejemplo, aquí, el término de etiquetas al principio de la cadena de filtro), las claves se pueden usar directamente. Sin embargo, para hacer referencia a etiquetas personalizadas, tenga en cuenta la sintaxis particular utilizada. Los nombres de las etiquetas personalizadas están entre comillas simples (`) y nuestra condición de búsqueda coincidente está entre comillas simples."
   ]
  },
  {
   "cell_type": "code",
   "execution_count": 18,
   "id": "3858e72a",
   "metadata": {
    "tags": []
   },
   "outputs": [
    {
     "name": "stdout",
     "output_type": "stream",
     "text": [
      "<Experiment: artifact_location='mlflow-artifacts:/888958100226118400', creation_time=1699023519179, experiment_id='888958100226118400', last_update_time=1699023519179, lifecycle_stage='active', name='Apple_Models', tags={'mlflow.note.content': 'This is the grocery forecasting project.This '\n",
      "                        'experiment contains the produce models for apples.',\n",
      " 'project_name': 'grocery-forecasting',\n",
      " 'project_quarter': 'Q3-2023',\n",
      " 'store_dept': 'produce',\n",
      " 'team': 'stores-ml'}>\n"
     ]
    }
   ],
   "source": [
    "# Use search_experiments() to search on the project_name tag key\n",
    "apples_experiment = client.search_experiments(\n",
    "    filter_string=\"tags.`project_name` = 'grocery-forecasting'\"\n",
    ")\n",
    "\n",
    "print(apples_experiment[0])"
   ]
  },
  {
   "cell_type": "code",
   "execution_count": 19,
   "id": "181a5545",
   "metadata": {
    "tags": []
   },
   "outputs": [
    {
     "name": "stdout",
     "output_type": "stream",
     "text": [
      "stores-ml\n"
     ]
    }
   ],
   "source": [
    "# Access individual tag data\n",
    "print(apples_experiment[0].tags[\"team\"])"
   ]
  },
  {
   "cell_type": "markdown",
   "id": "91c66551",
   "metadata": {},
   "source": [
    "## 3.3. Running our first model training\n",
    "\n",
    "En esta sección, haremos:\n",
    "\n",
    "* crear un conjunto de datos sintéticos que sea relevante para una tarea simple de previsión de la demanda\n",
    "* iniciar una ejecución de MLflow\n",
    "* registrar métricas, parámetros y etiquetas en la ejecución\n",
    "* guardar el modelo en la ejecución\n",
    "* registrar el modelo durante el registro del modelo"
   ]
  },
  {
   "cell_type": "markdown",
   "id": "5faffa16",
   "metadata": {},
   "source": [
    "### 3.3.1. Generador de datos sintéticos para la demanda de manzanas\n",
    "\n",
    "Tenga en cuenta que esto es únicamente para fines de demostración.\n",
    "\n",
    "El valor de la demanda es puramente artificial y deliberadamente covariante con las características. Este no es un escenario particularmente realista del mundo real (si lo fuera, ¡no necesitaríamos científicos de datos!)."
   ]
  },
  {
   "cell_type": "code",
   "execution_count": 20,
   "id": "2268a1cb",
   "metadata": {
    "tags": []
   },
   "outputs": [],
   "source": [
    "import pandas as pd\n",
    "import numpy as np\n",
    "from datetime import datetime, timedelta\n",
    "\n",
    "\n",
    "def generate_apple_sales_data_with_promo_adjustment(base_demand: int = 1000, n_rows: int = 5000):\n",
    "    \"\"\"\n",
    "    Generates a synthetic dataset for predicting apple sales demand with seasonality and inflation.\n",
    "\n",
    "    This function creates a pandas DataFrame with features relevant to apple sales.\n",
    "    The features include date, average_temperature, rainfall, weekend flag, holiday flag,\n",
    "    promotional flag, price_per_kg, and the previous day's demand. The target variable,\n",
    "    'demand', is generated based on a combination of these features with some added noise.\n",
    "\n",
    "    Args:\n",
    "        base_demand (int, optional): Base demand for apples. Defaults to 1000.\n",
    "        n_rows (int, optional): Number of rows (days) of data to generate. Defaults to 5000.\n",
    "\n",
    "    Returns:\n",
    "        pd.DataFrame: DataFrame with features and target variable for apple sales prediction.\n",
    "\n",
    "    Example:\n",
    "        >>> df = generate_apple_sales_data_with_seasonality(base_demand=1200, n_rows=6000)\n",
    "        >>> df.head()\n",
    "    \"\"\"\n",
    "\n",
    "    # Set seed for reproducibility\n",
    "    np.random.seed(9999)\n",
    "\n",
    "    # Create date range\n",
    "    dates = [datetime.now() - timedelta(days=i) for i in range(n_rows)]\n",
    "    dates.reverse()\n",
    "\n",
    "    # Generate features\n",
    "    df = pd.DataFrame(\n",
    "        {\n",
    "            \"date\": dates,\n",
    "            \"average_temperature\": np.random.uniform(10, 35, n_rows),\n",
    "            \"rainfall\": np.random.exponential(5, n_rows),\n",
    "            \"weekend\": [(date.weekday() >= 5) * 1 for date in dates],\n",
    "            \"holiday\": np.random.choice([0, 1], n_rows, p=[0.97, 0.03]),\n",
    "            \"price_per_kg\": np.random.uniform(0.5, 3, n_rows),\n",
    "            \"month\": [date.month for date in dates],\n",
    "        }\n",
    "    )\n",
    "\n",
    "    # Introduce inflation over time (years)\n",
    "    df[\"inflation_multiplier\"] = 1 + (df[\"date\"].dt.year - df[\"date\"].dt.year.min()) * 0.03\n",
    "\n",
    "    # Incorporate seasonality due to apple harvests\n",
    "    df[\"harvest_effect\"] = np.sin(2 * np.pi * (df[\"month\"] - 3) / 12) + np.sin(\n",
    "        2 * np.pi * (df[\"month\"] - 9) / 12\n",
    "    )\n",
    "\n",
    "    # Modify the price_per_kg based on harvest effect\n",
    "    df[\"price_per_kg\"] = df[\"price_per_kg\"] - df[\"harvest_effect\"] * 0.5\n",
    "\n",
    "    # Adjust promo periods to coincide with periods lagging peak harvest by 1 month\n",
    "    peak_months = [4, 10]  # months following the peak availability\n",
    "    df[\"promo\"] = np.where(\n",
    "        df[\"month\"].isin(peak_months),\n",
    "        1,\n",
    "        np.random.choice([0, 1], n_rows, p=[0.85, 0.15]),\n",
    "    )\n",
    "\n",
    "    # Generate target variable based on features\n",
    "    base_price_effect = -df[\"price_per_kg\"] * 50\n",
    "    seasonality_effect = df[\"harvest_effect\"] * 50\n",
    "    promo_effect = df[\"promo\"] * 200\n",
    "\n",
    "    df[\"demand\"] = (\n",
    "        base_demand\n",
    "        + base_price_effect\n",
    "        + seasonality_effect\n",
    "        + promo_effect\n",
    "        + df[\"weekend\"] * 300\n",
    "        + np.random.normal(0, 50, n_rows)\n",
    "    ) * df[\n",
    "        \"inflation_multiplier\"\n",
    "    ]  # adding random noise\n",
    "\n",
    "    # Add previous day's demand\n",
    "    df[\"previous_days_demand\"] = df[\"demand\"].shift(1)\n",
    "    df[\"previous_days_demand\"].fillna(method=\"bfill\", inplace=True)  # fill the first row\n",
    "\n",
    "    # Drop temporary columns\n",
    "    df.drop(columns=[\"inflation_multiplier\", \"harvest_effect\", \"month\"], inplace=True)\n",
    "\n",
    "    return df"
   ]
  },
  {
   "cell_type": "code",
   "execution_count": 21,
   "id": "2924d135",
   "metadata": {
    "tags": []
   },
   "outputs": [
    {
     "data": {
      "text/html": [
       "<div>\n",
       "<style scoped>\n",
       "    .dataframe tbody tr th:only-of-type {\n",
       "        vertical-align: middle;\n",
       "    }\n",
       "\n",
       "    .dataframe tbody tr th {\n",
       "        vertical-align: top;\n",
       "    }\n",
       "\n",
       "    .dataframe thead th {\n",
       "        text-align: right;\n",
       "    }\n",
       "</style>\n",
       "<table border=\"1\" class=\"dataframe\">\n",
       "  <thead>\n",
       "    <tr style=\"text-align: right;\">\n",
       "      <th></th>\n",
       "      <th>date</th>\n",
       "      <th>average_temperature</th>\n",
       "      <th>rainfall</th>\n",
       "      <th>weekend</th>\n",
       "      <th>holiday</th>\n",
       "      <th>price_per_kg</th>\n",
       "      <th>promo</th>\n",
       "      <th>demand</th>\n",
       "      <th>previous_days_demand</th>\n",
       "    </tr>\n",
       "  </thead>\n",
       "  <tbody>\n",
       "    <tr>\n",
       "      <th>980</th>\n",
       "      <td>2023-10-15 16:06:05.324877</td>\n",
       "      <td>34.130183</td>\n",
       "      <td>1.454065</td>\n",
       "      <td>1</td>\n",
       "      <td>0</td>\n",
       "      <td>1.449177</td>\n",
       "      <td>1</td>\n",
       "      <td>1501.802447</td>\n",
       "      <td>1531.085782</td>\n",
       "    </tr>\n",
       "    <tr>\n",
       "      <th>981</th>\n",
       "      <td>2023-10-16 16:06:05.324876</td>\n",
       "      <td>32.353643</td>\n",
       "      <td>9.462859</td>\n",
       "      <td>0</td>\n",
       "      <td>0</td>\n",
       "      <td>2.856503</td>\n",
       "      <td>1</td>\n",
       "      <td>1030.951553</td>\n",
       "      <td>1501.802447</td>\n",
       "    </tr>\n",
       "    <tr>\n",
       "      <th>982</th>\n",
       "      <td>2023-10-17 16:06:05.324874</td>\n",
       "      <td>18.816833</td>\n",
       "      <td>0.391470</td>\n",
       "      <td>0</td>\n",
       "      <td>0</td>\n",
       "      <td>1.326429</td>\n",
       "      <td>1</td>\n",
       "      <td>1175.352029</td>\n",
       "      <td>1030.951553</td>\n",
       "    </tr>\n",
       "    <tr>\n",
       "      <th>983</th>\n",
       "      <td>2023-10-18 16:06:05.324873</td>\n",
       "      <td>34.533012</td>\n",
       "      <td>2.120477</td>\n",
       "      <td>0</td>\n",
       "      <td>0</td>\n",
       "      <td>0.970131</td>\n",
       "      <td>1</td>\n",
       "      <td>1251.385504</td>\n",
       "      <td>1175.352029</td>\n",
       "    </tr>\n",
       "    <tr>\n",
       "      <th>984</th>\n",
       "      <td>2023-10-19 16:06:05.324872</td>\n",
       "      <td>23.057202</td>\n",
       "      <td>2.365705</td>\n",
       "      <td>0</td>\n",
       "      <td>0</td>\n",
       "      <td>1.049931</td>\n",
       "      <td>1</td>\n",
       "      <td>1203.427049</td>\n",
       "      <td>1251.385504</td>\n",
       "    </tr>\n",
       "    <tr>\n",
       "      <th>985</th>\n",
       "      <td>2023-10-20 16:06:05.324871</td>\n",
       "      <td>34.810165</td>\n",
       "      <td>3.089005</td>\n",
       "      <td>0</td>\n",
       "      <td>0</td>\n",
       "      <td>2.035149</td>\n",
       "      <td>1</td>\n",
       "      <td>1186.971149</td>\n",
       "      <td>1203.427049</td>\n",
       "    </tr>\n",
       "    <tr>\n",
       "      <th>986</th>\n",
       "      <td>2023-10-21 16:06:05.324870</td>\n",
       "      <td>29.208905</td>\n",
       "      <td>3.673292</td>\n",
       "      <td>1</td>\n",
       "      <td>0</td>\n",
       "      <td>2.518098</td>\n",
       "      <td>1</td>\n",
       "      <td>1586.249547</td>\n",
       "      <td>1186.971149</td>\n",
       "    </tr>\n",
       "    <tr>\n",
       "      <th>987</th>\n",
       "      <td>2023-10-22 16:06:05.324869</td>\n",
       "      <td>16.428676</td>\n",
       "      <td>4.077782</td>\n",
       "      <td>1</td>\n",
       "      <td>0</td>\n",
       "      <td>1.268979</td>\n",
       "      <td>1</td>\n",
       "      <td>1593.118915</td>\n",
       "      <td>1586.249547</td>\n",
       "    </tr>\n",
       "    <tr>\n",
       "      <th>988</th>\n",
       "      <td>2023-10-23 16:06:05.324868</td>\n",
       "      <td>32.067512</td>\n",
       "      <td>2.734454</td>\n",
       "      <td>0</td>\n",
       "      <td>0</td>\n",
       "      <td>0.762317</td>\n",
       "      <td>1</td>\n",
       "      <td>1252.492007</td>\n",
       "      <td>1593.118915</td>\n",
       "    </tr>\n",
       "    <tr>\n",
       "      <th>989</th>\n",
       "      <td>2023-10-24 16:06:05.324867</td>\n",
       "      <td>31.938203</td>\n",
       "      <td>13.883486</td>\n",
       "      <td>0</td>\n",
       "      <td>0</td>\n",
       "      <td>1.153301</td>\n",
       "      <td>1</td>\n",
       "      <td>1179.040470</td>\n",
       "      <td>1252.492007</td>\n",
       "    </tr>\n",
       "    <tr>\n",
       "      <th>990</th>\n",
       "      <td>2023-10-25 16:06:05.324866</td>\n",
       "      <td>18.024055</td>\n",
       "      <td>7.544061</td>\n",
       "      <td>0</td>\n",
       "      <td>0</td>\n",
       "      <td>0.610703</td>\n",
       "      <td>1</td>\n",
       "      <td>1260.644564</td>\n",
       "      <td>1179.040470</td>\n",
       "    </tr>\n",
       "    <tr>\n",
       "      <th>991</th>\n",
       "      <td>2023-10-26 16:06:05.324864</td>\n",
       "      <td>20.681067</td>\n",
       "      <td>18.820490</td>\n",
       "      <td>0</td>\n",
       "      <td>0</td>\n",
       "      <td>1.533488</td>\n",
       "      <td>1</td>\n",
       "      <td>1185.934924</td>\n",
       "      <td>1260.644564</td>\n",
       "    </tr>\n",
       "    <tr>\n",
       "      <th>992</th>\n",
       "      <td>2023-10-27 16:06:05.324863</td>\n",
       "      <td>16.010132</td>\n",
       "      <td>7.705941</td>\n",
       "      <td>0</td>\n",
       "      <td>0</td>\n",
       "      <td>1.632498</td>\n",
       "      <td>1</td>\n",
       "      <td>1188.291256</td>\n",
       "      <td>1185.934924</td>\n",
       "    </tr>\n",
       "    <tr>\n",
       "      <th>993</th>\n",
       "      <td>2023-10-28 16:06:05.324862</td>\n",
       "      <td>18.766455</td>\n",
       "      <td>6.274840</td>\n",
       "      <td>1</td>\n",
       "      <td>0</td>\n",
       "      <td>2.806554</td>\n",
       "      <td>1</td>\n",
       "      <td>1460.089438</td>\n",
       "      <td>1188.291256</td>\n",
       "    </tr>\n",
       "    <tr>\n",
       "      <th>994</th>\n",
       "      <td>2023-10-29 16:06:05.324861</td>\n",
       "      <td>27.948793</td>\n",
       "      <td>23.705246</td>\n",
       "      <td>1</td>\n",
       "      <td>0</td>\n",
       "      <td>0.829464</td>\n",
       "      <td>1</td>\n",
       "      <td>1590.576311</td>\n",
       "      <td>1460.089438</td>\n",
       "    </tr>\n",
       "    <tr>\n",
       "      <th>995</th>\n",
       "      <td>2023-10-30 16:06:05.324860</td>\n",
       "      <td>28.661072</td>\n",
       "      <td>10.329865</td>\n",
       "      <td>0</td>\n",
       "      <td>0</td>\n",
       "      <td>2.290591</td>\n",
       "      <td>1</td>\n",
       "      <td>1122.690776</td>\n",
       "      <td>1590.576311</td>\n",
       "    </tr>\n",
       "    <tr>\n",
       "      <th>996</th>\n",
       "      <td>2023-10-31 16:06:05.324858</td>\n",
       "      <td>10.821693</td>\n",
       "      <td>3.575645</td>\n",
       "      <td>0</td>\n",
       "      <td>0</td>\n",
       "      <td>0.897473</td>\n",
       "      <td>1</td>\n",
       "      <td>1200.363801</td>\n",
       "      <td>1122.690776</td>\n",
       "    </tr>\n",
       "    <tr>\n",
       "      <th>997</th>\n",
       "      <td>2023-11-01 16:06:05.324857</td>\n",
       "      <td>21.108560</td>\n",
       "      <td>6.221089</td>\n",
       "      <td>0</td>\n",
       "      <td>0</td>\n",
       "      <td>1.093864</td>\n",
       "      <td>0</td>\n",
       "      <td>1034.422372</td>\n",
       "      <td>1200.363801</td>\n",
       "    </tr>\n",
       "    <tr>\n",
       "      <th>998</th>\n",
       "      <td>2023-11-02 16:06:05.324855</td>\n",
       "      <td>29.451301</td>\n",
       "      <td>5.021463</td>\n",
       "      <td>0</td>\n",
       "      <td>0</td>\n",
       "      <td>2.493085</td>\n",
       "      <td>0</td>\n",
       "      <td>952.303256</td>\n",
       "      <td>1034.422372</td>\n",
       "    </tr>\n",
       "    <tr>\n",
       "      <th>999</th>\n",
       "      <td>2023-11-03 16:06:05.324849</td>\n",
       "      <td>19.261458</td>\n",
       "      <td>0.438381</td>\n",
       "      <td>0</td>\n",
       "      <td>0</td>\n",
       "      <td>2.610422</td>\n",
       "      <td>0</td>\n",
       "      <td>855.963448</td>\n",
       "      <td>952.303256</td>\n",
       "    </tr>\n",
       "  </tbody>\n",
       "</table>\n",
       "</div>"
      ],
      "text/plain": [
       "                          date  average_temperature   rainfall  weekend  \\\n",
       "980 2023-10-15 16:06:05.324877            34.130183   1.454065        1   \n",
       "981 2023-10-16 16:06:05.324876            32.353643   9.462859        0   \n",
       "982 2023-10-17 16:06:05.324874            18.816833   0.391470        0   \n",
       "983 2023-10-18 16:06:05.324873            34.533012   2.120477        0   \n",
       "984 2023-10-19 16:06:05.324872            23.057202   2.365705        0   \n",
       "985 2023-10-20 16:06:05.324871            34.810165   3.089005        0   \n",
       "986 2023-10-21 16:06:05.324870            29.208905   3.673292        1   \n",
       "987 2023-10-22 16:06:05.324869            16.428676   4.077782        1   \n",
       "988 2023-10-23 16:06:05.324868            32.067512   2.734454        0   \n",
       "989 2023-10-24 16:06:05.324867            31.938203  13.883486        0   \n",
       "990 2023-10-25 16:06:05.324866            18.024055   7.544061        0   \n",
       "991 2023-10-26 16:06:05.324864            20.681067  18.820490        0   \n",
       "992 2023-10-27 16:06:05.324863            16.010132   7.705941        0   \n",
       "993 2023-10-28 16:06:05.324862            18.766455   6.274840        1   \n",
       "994 2023-10-29 16:06:05.324861            27.948793  23.705246        1   \n",
       "995 2023-10-30 16:06:05.324860            28.661072  10.329865        0   \n",
       "996 2023-10-31 16:06:05.324858            10.821693   3.575645        0   \n",
       "997 2023-11-01 16:06:05.324857            21.108560   6.221089        0   \n",
       "998 2023-11-02 16:06:05.324855            29.451301   5.021463        0   \n",
       "999 2023-11-03 16:06:05.324849            19.261458   0.438381        0   \n",
       "\n",
       "     holiday  price_per_kg  promo       demand  previous_days_demand  \n",
       "980        0      1.449177      1  1501.802447           1531.085782  \n",
       "981        0      2.856503      1  1030.951553           1501.802447  \n",
       "982        0      1.326429      1  1175.352029           1030.951553  \n",
       "983        0      0.970131      1  1251.385504           1175.352029  \n",
       "984        0      1.049931      1  1203.427049           1251.385504  \n",
       "985        0      2.035149      1  1186.971149           1203.427049  \n",
       "986        0      2.518098      1  1586.249547           1186.971149  \n",
       "987        0      1.268979      1  1593.118915           1586.249547  \n",
       "988        0      0.762317      1  1252.492007           1593.118915  \n",
       "989        0      1.153301      1  1179.040470           1252.492007  \n",
       "990        0      0.610703      1  1260.644564           1179.040470  \n",
       "991        0      1.533488      1  1185.934924           1260.644564  \n",
       "992        0      1.632498      1  1188.291256           1185.934924  \n",
       "993        0      2.806554      1  1460.089438           1188.291256  \n",
       "994        0      0.829464      1  1590.576311           1460.089438  \n",
       "995        0      2.290591      1  1122.690776           1590.576311  \n",
       "996        0      0.897473      1  1200.363801           1122.690776  \n",
       "997        0      1.093864      0  1034.422372           1200.363801  \n",
       "998        0      2.493085      0   952.303256           1034.422372  \n",
       "999        0      2.610422      0   855.963448            952.303256  "
      ]
     },
     "execution_count": 21,
     "metadata": {},
     "output_type": "execute_result"
    }
   ],
   "source": [
    "# Generate the dataset!\n",
    "\n",
    "data = generate_apple_sales_data_with_promo_adjustment(base_demand=1_000, n_rows=1_000)\n",
    "\n",
    "data[-20:]"
   ]
  },
  {
   "cell_type": "markdown",
   "id": "e076a312",
   "metadata": {},
   "source": [
    "## 3.4. Entrene y registre el modelo\n",
    "\n",
    "Ahora que tenemos nuestro conjunto de datos y hemos visto un poco cómo se registran las ejecuciones, profundicemos en el uso de MLflow para rastrear una iteración de entrenamiento.\n",
    "\n",
    "Para empezar, necesitaremos importar nuestros módulos necesarios."
   ]
  },
  {
   "cell_type": "code",
   "execution_count": 22,
   "id": "63d81359-0c75-49fc-97fa-bd9280db00bd",
   "metadata": {
    "tags": []
   },
   "outputs": [],
   "source": [
    "import mlflow\n",
    "from sklearn.model_selection import train_test_split\n",
    "from sklearn.ensemble import RandomForestRegressor\n",
    "from sklearn.metrics import mean_absolute_error, mean_squared_error, r2_score"
   ]
  },
  {
   "cell_type": "markdown",
   "id": "a398fbab-ffdc-4cb1-8663-de231c9faee6",
   "metadata": {},
   "source": [
    "Tenga en cuenta que aquí no estamos importando MlflowClient directamente. Para esta parte, usaremos la API fluida. Las API fluidas utilizan un estado referenciado globalmente del uri del servidor de seguimiento de MLflow. Esta instancia global nos permite usar estas API de 'nivel superior' (más simples) para realizar todas las acciones que de otro modo podríamos hacer con MlflowClient, con la adición de alguna otra sintaxis útil (como los controladores de contexto que usaremos). muy pronto) para hacer que la integración de MLflow a cargas de trabajo de ML sea lo más simple posible.\n",
    "\n",
    "Para utilizar la API fluida, necesitaremos establecer la referencia global a la dirección del servidor de seguimiento. Hacemos esto a través del siguiente comando:"
   ]
  },
  {
   "cell_type": "code",
   "execution_count": 23,
   "id": "e799b971-bebc-4ac1-b1f5-1616f0e38a0f",
   "metadata": {
    "tags": []
   },
   "outputs": [],
   "source": [
    "# Use the fluent API to set the tracking uri and the active experiment\n",
    "mlflow.set_tracking_uri(\"http://127.0.0.1:8080\")"
   ]
  },
  {
   "cell_type": "markdown",
   "id": "17f6b088-35f4-492c-9d5a-ba0299889775",
   "metadata": {},
   "source": [
    "Una vez configurado esto, podemos definir algunas constantes más que usaremos al registrar nuestros eventos de entrenamiento en MLflow en forma de ejecuciones. Comenzaremos definiendo un experimento que se utilizará para registrar ejecuciones. La relación padre-hijo de Experiments to Runs y su utilidad quedará muy clara una vez que comencemos a iterar sobre algunas ideas y necesitemos comparar los resultados de nuestras pruebas."
   ]
  },
  {
   "cell_type": "code",
   "execution_count": 26,
   "id": "6e354900",
   "metadata": {
    "tags": []
   },
   "outputs": [],
   "source": [
    "# Sets the current active experiment to the \"Apple_Models\" experiment and returns the Experiment metadata\n",
    "apple_experiment = mlflow.set_experiment(\"Apple_Models\")\n",
    "\n",
    "# Define a run name for this iteration of training.\n",
    "# If this is not set, a unique name will be auto-generated for your run.\n",
    "run_name = \"apples_rf_test\"\n",
    "\n",
    "# Define an artifact path that the model will be saved to.\n",
    "artifact_path = \"rf_apples\""
   ]
  },
  {
   "cell_type": "markdown",
   "id": "b41e0082-a5d8-4d33-9724-10141c46ed88",
   "metadata": {},
   "source": [
    "Con estas variables definidas, podemos comenzar a entrenar un modelo.\n",
    "\n",
    "En primer lugar, veamos lo que vamos a ejecutar. Después de la visualización del código, veremos una versión anotada del código."
   ]
  },
  {
   "cell_type": "code",
   "execution_count": 27,
   "id": "ae02e54b",
   "metadata": {
    "tags": []
   },
   "outputs": [
    {
     "name": "stderr",
     "output_type": "stream",
     "text": [
      "/home/gmachin/miniconda3/lib/python3.10/site-packages/mlflow/models/signature.py:351: UserWarning: Hint: Inferred schema contains integer column(s). Integer columns in Python cannot represent missing values. If your input data contains missing values at inference time, it will be encoded as floats and will cause a schema enforcement error. The best way to avoid this problem is to infer the model schema based on a realistic data sample (training dataset) that includes missing values. Alternatively, you can declare integer columns as doubles (float64) whenever these columns may have missing values. See `Handling Integers With Missing Values <https://www.mlflow.org/docs/latest/models.html#handling-integers-with-missing-values>`_ for more details.\n",
      "  input_schema = _infer_schema(input_example)\n",
      "/home/gmachin/miniconda3/lib/python3.10/site-packages/_distutils_hack/__init__.py:33: UserWarning: Setuptools is replacing distutils.\n",
      "  warnings.warn(\"Setuptools is replacing distutils.\")\n"
     ]
    }
   ],
   "source": [
    "# Split the data into features and target and drop irrelevant date field and target field\n",
    "X = data.drop(columns=[\"date\", \"demand\"])\n",
    "y = data[\"demand\"]\n",
    "\n",
    "# Split the data into training and validation sets\n",
    "X_train, X_val, y_train, y_val = train_test_split(X, y, test_size=0.2, random_state=42)\n",
    "\n",
    "params = {\n",
    "    \"n_estimators\": 100,\n",
    "    \"max_depth\": 6,\n",
    "    \"min_samples_split\": 10,\n",
    "    \"min_samples_leaf\": 4,\n",
    "    \"bootstrap\": True,\n",
    "    \"oob_score\": False,\n",
    "    \"random_state\": 888,\n",
    "}\n",
    "\n",
    "# Train the RandomForestRegressor\n",
    "rf = RandomForestRegressor(**params)\n",
    "\n",
    "# Fit the model on the training data\n",
    "rf.fit(X_train, y_train)\n",
    "\n",
    "# Predict on the validation set\n",
    "y_pred = rf.predict(X_val)\n",
    "\n",
    "# Calculate error metrics\n",
    "mae = mean_absolute_error(y_val, y_pred)\n",
    "mse = mean_squared_error(y_val, y_pred)\n",
    "rmse = np.sqrt(mse)\n",
    "r2 = r2_score(y_val, y_pred)\n",
    "\n",
    "# Assemble the metrics we're going to write into a collection\n",
    "metrics = {\"mae\": mae, \"mse\": mse, \"rmse\": rmse, \"r2\": r2}\n",
    "\n",
    "# Initiate the MLflow run context\n",
    "with mlflow.start_run(run_name=run_name) as run:\n",
    "    # Log the parameters used for the model fit\n",
    "    mlflow.log_params(params)\n",
    "\n",
    "    # Log the error metrics that were calculated during validation\n",
    "    mlflow.log_metrics(metrics)\n",
    "\n",
    "    # Log an instance of the trained model for later use\n",
    "    mlflow.sklearn.log_model(sk_model=rf, input_example=X_val, artifact_path=artifact_path)"
   ]
  },
  {
   "cell_type": "markdown",
   "id": "216c16ff-19ce-4fc4-9769-b7578eba693e",
   "metadata": {
    "tags": []
   },
   "source": [
    "Para ayudar a visualizar cómo las llamadas a la API de seguimiento de MLflow se agregan a una base de código de entrenamiento de ML, consulte la siguiente figura."
   ]
  },
  {
   "cell_type": "markdown",
   "id": "7ccef623-b173-4610-83da-52a2f7a4c7db",
   "metadata": {},
   "source": [
    "<img src=\"../images/training-annotation.svg\" width=\"800\">"
   ]
  },
  {
   "cell_type": "code",
   "execution_count": null,
   "id": "ff579207-c4c4-496c-9ef7-3be7f33fe6d8",
   "metadata": {},
   "outputs": [],
   "source": []
  },
  {
   "cell_type": "code",
   "execution_count": null,
   "id": "f0040120-d2ab-4a62-a51b-539272b7dd3d",
   "metadata": {},
   "outputs": [],
   "source": []
  },
  {
   "cell_type": "markdown",
   "id": "84c06abe",
   "metadata": {},
   "source": [
    "### 3.4.1. Success!\n",
    "\n",
    "You've just logged your first MLflow model! \n",
    "\n",
    "Navigate to the MLflow UI to see the run that was just created (named \"apples_rf_test\", logged to the Experiment \"Apple_Models\"). "
   ]
  },
  {
   "cell_type": "code",
   "execution_count": null,
   "id": "a88487e8-0421-4f45-8c42-a55abd7e65cf",
   "metadata": {},
   "outputs": [],
   "source": []
  }
 ],
 "metadata": {
  "kernelspec": {
   "display_name": "Python 3 (ipykernel)",
   "language": "python",
   "name": "python3"
  },
  "language_info": {
   "codemirror_mode": {
    "name": "ipython",
    "version": 3
   },
   "file_extension": ".py",
   "mimetype": "text/x-python",
   "name": "python",
   "nbconvert_exporter": "python",
   "pygments_lexer": "ipython3",
   "version": "3.10.11"
  }
 },
 "nbformat": 4,
 "nbformat_minor": 5
}
